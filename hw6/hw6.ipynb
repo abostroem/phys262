{
 "cells": [
  {
   "cell_type": "code",
   "execution_count": 1,
   "metadata": {
    "collapsed": true
   },
   "outputs": [],
   "source": [
    "from astropy import constants as C\n",
    "from astropy import units as U\n",
    "from astropy import table\n",
    "from math import pi, sqrt\n",
    "import numpy as np\n",
    "from scipy.integrate import ode"
   ]
  },
  {
   "cell_type": "markdown",
   "metadata": {},
   "source": [
    "For this HW we are going to do everything in GeV, so define fundamental constants in these energy units"
   ]
  },
  {
   "cell_type": "code",
   "execution_count": 2,
   "metadata": {
    "collapsed": false
   },
   "outputs": [
    {
     "data": {
      "text/latex": [
       "$2.3266797 \\times 10^{-13} \\; \\mathrm{GeV}$"
      ],
      "text/plain": [
       "<Quantity 2.326679743939458e-13 GeV>"
      ]
     },
     "execution_count": 2,
     "metadata": {},
     "output_type": "execute_result"
    }
   ],
   "source": [
    "T0 = 2.7 * U.Kelvin\n",
    "T0_E = (T0 * C.k_B).to(U.GeV)\n",
    "T0_E"
   ]
  },
  {
   "cell_type": "code",
   "execution_count": 3,
   "metadata": {
    "collapsed": false
   },
   "outputs": [
    {
     "data": {
      "text/latex": [
       "$1.3865277 \\times 10^{-42} \\; \\mathrm{GeV}$"
      ],
      "text/plain": [
       "<Quantity 1.386527729154903e-42 GeV>"
      ]
     },
     "execution_count": 3,
     "metadata": {},
     "output_type": "execute_result"
    }
   ],
   "source": [
    "H0 = 65 * U.km/U.s/U.Mpc\n",
    "H0_s = H0 * (1.*U.Mpc)/ ((1.*U.Mpc).to(U.km))\n",
    "H0_E = (H0_s * C.hbar).to(U.GeV)\n",
    "H0_E"
   ]
  },
  {
   "cell_type": "code",
   "execution_count": 4,
   "metadata": {
    "collapsed": false
   },
   "outputs": [
    {
     "data": {
      "text/latex": [
       "$6.7083684 \\times 10^{-39} \\; \\mathrm{\\frac{1}{GeV^{2}}}$"
      ],
      "text/plain": [
       "<Quantity 6.708368375728058e-39 1 / GeV2>"
      ]
     },
     "execution_count": 4,
     "metadata": {},
     "output_type": "execute_result"
    }
   ],
   "source": [
    "G = 1*C.G\n",
    "#Convert to energy\n",
    "G_E = G* (C.hbar * C.c)**-3/(C.c**2) / (C.hbar)**-2\n",
    "G_E = (G_E *(U.kg * U.m**2 / U.s**2) / U.J).to(1/U.GeV**2)\n",
    "G_E"
   ]
  },
  {
   "cell_type": "code",
   "execution_count": 5,
   "metadata": {
    "collapsed": false
   },
   "outputs": [
    {
     "data": {
      "text/latex": [
       "$3.4207522 \\times 10^{-47} \\; \\mathrm{GeV^{4}}$"
      ],
      "text/plain": [
       "<Quantity 3.4207521689056005e-47 GeV4>"
      ]
     },
     "execution_count": 5,
     "metadata": {},
     "output_type": "execute_result"
    }
   ],
   "source": [
    "rho_c0 = 3./(8*pi*G_E) * H0_E**2\n",
    "rho_c0"
   ]
  },
  {
   "cell_type": "code",
   "execution_count": 6,
   "metadata": {
    "collapsed": false
   },
   "outputs": [
    {
     "name": "stdout",
     "output_type": "stream",
     "text": [
      "1.9282126242237774e-51 GeV4\n",
      "9.578106072935683e-48 GeV4\n",
      "2.4629415616120323e-47 GeV4\n"
     ]
    }
   ],
   "source": [
    "g_star = 2.\n",
    "rho_m0 = 0.28 * rho_c0\n",
    "rho_L0 = 0.72 * rho_c0\n",
    "rho_r0 = pi**2/30 * g_star * T0_E**4\n",
    "print(rho_r0)\n",
    "print(rho_m0)\n",
    "print(rho_L0)"
   ]
  },
  {
   "cell_type": "markdown",
   "metadata": {},
   "source": [
    "### Problem 6.1"
   ]
  },
  {
   "cell_type": "code",
   "execution_count": 7,
   "metadata": {
    "collapsed": false
   },
   "outputs": [],
   "source": [
    "rho_k0 = np.arange(0, 3.801E-48, 1E-49) *(U.GeV**4)"
   ]
  },
  {
   "cell_type": "code",
   "execution_count": 8,
   "metadata": {
    "collapsed": true
   },
   "outputs": [],
   "source": [
    "T = 10**16*U.GeV"
   ]
  },
  {
   "cell_type": "code",
   "execution_count": 9,
   "metadata": {
    "collapsed": true
   },
   "outputs": [],
   "source": [
    "rho_c0 = rho_m0 + rho_L0 + rho_r0 + rho_k0"
   ]
  },
  {
   "cell_type": "code",
   "execution_count": 10,
   "metadata": {
    "collapsed": false
   },
   "outputs": [
    {
     "data": {
      "text/plain": [
       "True"
      ]
     },
     "execution_count": 10,
     "metadata": {},
     "output_type": "execute_result"
    }
   ],
   "source": [
    "(rho_k0/rho_c0<0.1).all()"
   ]
  },
  {
   "cell_type": "code",
   "execution_count": 11,
   "metadata": {
    "collapsed": true
   },
   "outputs": [],
   "source": [
    "rho_k = rho_k0 * (T/T0_E)**-2\n",
    "rho_m = rho_m0 * (T/T0_E)**-3\n",
    "rho_r = rho_r0 * (T/T0_E)**-4\n",
    "rho_c = rho_k + rho_m + rho_r+rho_L0"
   ]
  },
  {
   "cell_type": "code",
   "execution_count": 12,
   "metadata": {
    "collapsed": false
   },
   "outputs": [
    {
     "data": {
      "text/latex": [
       "$[0,~2.1979566 \\times 10^{-60},~4.3959132 \\times 10^{-60},~6.5938698 \\times 10^{-60},~8.7918264 \\times 10^{-60},~1.0989783 \\times 10^{-59},~1.318774 \\times 10^{-59},~1.5385696 \\times 10^{-59},~1.7583653 \\times 10^{-59},~1.9781609 \\times 10^{-59},~2.1979566 \\times 10^{-59},~2.4177522 \\times 10^{-59},~2.6375479 \\times 10^{-59},~2.8573436 \\times 10^{-59},~3.0771392 \\times 10^{-59},~3.2969349 \\times 10^{-59},~3.5167305 \\times 10^{-59},~3.7365262 \\times 10^{-59},~3.9563219 \\times 10^{-59},~4.1761175 \\times 10^{-59},~4.3959132 \\times 10^{-59},~4.6157088 \\times 10^{-59},~4.8355045 \\times 10^{-59},~5.0553002 \\times 10^{-59},~5.2750958 \\times 10^{-59},~5.4948915 \\times 10^{-59},~5.7146871 \\times 10^{-59},~5.9344828 \\times 10^{-59},~6.1542784 \\times 10^{-59},~6.3740741 \\times 10^{-59},~6.5938698 \\times 10^{-59},~6.8136654 \\times 10^{-59},~7.0334611 \\times 10^{-59},~7.2532567 \\times 10^{-59},~7.4730524 \\times 10^{-59},~7.6928481 \\times 10^{-59},~7.9126437 \\times 10^{-59},~8.1324394 \\times 10^{-59},~8.352235 \\times 10^{-59}] \\; \\mathrm{}$"
      ],
      "text/plain": [
       "<Quantity [  0.00000000e+00,  2.19795659e-60,  4.39591318e-60,\n",
       "             6.59386976e-60,  8.79182635e-60,  1.09897829e-59,\n",
       "             1.31877395e-59,  1.53856961e-59,  1.75836527e-59,\n",
       "             1.97816093e-59,  2.19795659e-59,  2.41775225e-59,\n",
       "             2.63754791e-59,  2.85734356e-59,  3.07713922e-59,\n",
       "             3.29693488e-59,  3.51673054e-59,  3.73652620e-59,\n",
       "             3.95632186e-59,  4.17611752e-59,  4.39591318e-59,\n",
       "             4.61570883e-59,  4.83550449e-59,  5.05530015e-59,\n",
       "             5.27509581e-59,  5.49489147e-59,  5.71468713e-59,\n",
       "             5.93448279e-59,  6.15427845e-59,  6.37407410e-59,\n",
       "             6.59386976e-59,  6.81366542e-59,  7.03346108e-59,\n",
       "             7.25325674e-59,  7.47305240e-59,  7.69284806e-59,\n",
       "             7.91264372e-59,  8.13243938e-59,  8.35223503e-59]>"
      ]
     },
     "execution_count": 12,
     "metadata": {},
     "output_type": "execute_result"
    }
   ],
   "source": [
    "rho_k/rho_c"
   ]
  },
  {
   "cell_type": "markdown",
   "metadata": {},
   "source": [
    "-------------------------------------\n",
    "## $\\frac{\\rho_k(T=10^{16})}{\\rho_c(T=10^{16})} < 8.35\\times10^{-59}$\n",
    "-------------------------------------"
   ]
  },
  {
   "cell_type": "markdown",
   "metadata": {
    "collapsed": false
   },
   "source": [
    "### Problem 6.2"
   ]
  },
  {
   "cell_type": "markdown",
   "metadata": {},
   "source": [
    "Find the Hubble Length today"
   ]
  },
  {
   "cell_type": "code",
   "execution_count": 13,
   "metadata": {
    "collapsed": false
   },
   "outputs": [
    {
     "name": "stdout",
     "output_type": "stream",
     "text": [
      "7.21205783425972e+41 1 / GeV\n"
     ]
    }
   ],
   "source": [
    "rho_tot = rho_m0 + rho_L0 + rho_r0\n",
    "R_H = 1./np.sqrt(8*pi*G_E/3*rho_tot)\n",
    "print(R_H)"
   ]
  },
  {
   "cell_type": "markdown",
   "metadata": {},
   "source": [
    "Find comoving length at T = 10^16"
   ]
  },
  {
   "cell_type": "code",
   "execution_count": 14,
   "metadata": {
    "collapsed": false
   },
   "outputs": [
    {
     "name": "stdout",
     "output_type": "stream",
     "text": [
      "5.2002952644234774e-14 1 / GeV\n",
      "2.3266797439394582e-29\n",
      "2.24e+15 1 / GeV\n"
     ]
    }
   ],
   "source": [
    "T2 = 10**16 *U.GeV\n",
    "a2 = T0_E/T2\n",
    "d_h = a2**2 * (8*pi*G_E/3*rho_r0)**(-0.5)\n",
    "print(d_h)\n",
    "print(a2)\n",
    "print('{:4.2e}'.format(d_h/a2))"
   ]
  },
  {
   "cell_type": "markdown",
   "metadata": {},
   "source": [
    "Find the ratio of the comoving distance today and the hubble length"
   ]
  },
  {
   "cell_type": "code",
   "execution_count": 15,
   "metadata": {
    "collapsed": false
   },
   "outputs": [
    {
     "name": "stdout",
     "output_type": "stream",
     "text": [
      "ratio of comoving distance today to Hubble length today is 3.10e-27\n"
     ]
    }
   ],
   "source": [
    "print('ratio of comoving distance today to Hubble length today is {:2.2e}'.format((d_h/a2)/R_H))"
   ]
  },
  {
   "cell_type": "markdown",
   "metadata": {},
   "source": [
    "## Problem 3"
   ]
  },
  {
   "cell_type": "markdown",
   "metadata": {},
   "source": [
    "I find $\\delta_H$ values >0.45 (larger at earlier times) during inflation, this is larger than the realistic value"
   ]
  },
  {
   "cell_type": "markdown",
   "metadata": {
    "collapsed": true
   },
   "source": [
    "## Problem 5"
   ]
  },
  {
   "cell_type": "markdown",
   "metadata": {},
   "source": [
    "$t_r = 1.3\\times10^{-10}$"
   ]
  },
  {
   "cell_type": "markdown",
   "metadata": {},
   "source": [
    "$\\rho_{\\phi}(t_r) = 2.31\\times10^{61}$"
   ]
  },
  {
   "cell_type": "markdown",
   "metadata": {},
   "source": [
    "$a_r = 9.56\\times10^{-29}$"
   ]
  },
  {
   "cell_type": "markdown",
   "metadata": {},
   "source": [
    "$T(a_r)=2.4343\\times10^{15}$"
   ]
  },
  {
   "cell_type": "code",
   "execution_count": 16,
   "metadata": {
    "collapsed": false
   },
   "outputs": [
    {
     "name": "stdout",
     "output_type": "stream",
     "text": [
      "[  1.56373838e+38   1.56373838e+40   1.56373838e+41] 1 / GeV\n"
     ]
    }
   ],
   "source": [
    "d0 = [1, 100, 1000] * U.Mpc\n",
    "d0_E = (d0.to(U.m)/C.hbar/C.c).to(1/U.GeV)\n",
    "print(d0_E)"
   ]
  },
  {
   "cell_type": "markdown",
   "metadata": {},
   "source": [
    "$d_r(d_0 = 1Mpc) = 1.5\\times10^{10}\\frac{1}{GeV}$"
   ]
  },
  {
   "cell_type": "markdown",
   "metadata": {},
   "source": [
    "$d_r(d_0 = 100Mpc) = 1.5\\times10^{12}\\frac{1}{GeV}$"
   ]
  },
  {
   "cell_type": "markdown",
   "metadata": {},
   "source": [
    "$d_r(d_0 = 1000Mpc) = 1.5\\times10^{3}\\frac{1}{GeV}$"
   ]
  },
  {
   "cell_type": "markdown",
   "metadata": {},
   "source": [
    "## Problem 6"
   ]
  },
  {
   "cell_type": "markdown",
   "metadata": {},
   "source": [
    "$\\frac{\\delta\\rho}{\\rho}(1Mpc) = 3.52\\times10^{-6}$"
   ]
  },
  {
   "cell_type": "markdown",
   "metadata": {},
   "source": [
    "$\\frac{\\delta\\rho}{\\rho}(100Mpc) = 3.75\\times10^{-6}$"
   ]
  },
  {
   "cell_type": "markdown",
   "metadata": {},
   "source": [
    "$\\frac{\\delta\\rho}{\\rho}(1000Mpc) = 3.86\\times10^{-6}$"
   ]
  },
  {
   "cell_type": "markdown",
   "metadata": {
    "collapsed": true
   },
   "source": [
    "## Problem 7"
   ]
  },
  {
   "cell_type": "code",
   "execution_count": 17,
   "metadata": {
    "collapsed": true
   },
   "outputs": [],
   "source": [
    "class get_parameters(object):\n",
    "    def __init__(self):\n",
    "        self.rho_r_reheat = 2.3088E61*(U.GeV**4)\n",
    "        self.T0 = T0_E\n",
    "        self.a0 = 1.0\n",
    "        self.a_reheat = 9.5594E-29\n",
    "        self.T_reheat = 2.4343E15*U.GeV\n",
    "        self.g_star = 2\n",
    "        self.t0 = 1/H0_s\n",
    "        \n",
    "\n",
    "def calc_Temp(a, params):\n",
    "    rho_r = params.rho_r_reheat * (a/params.a_reheat)**-4\n",
    "    T = (rho_r/params.g_star*30/(pi**2))**0.25\n",
    "    return T\n",
    "    \n",
    "def GeV_to_K(T_GeV):\n",
    "    T_K = (T_GeV.to(U.J))*C.k_B\n",
    "    return T_K"
   ]
  },
  {
   "cell_type": "code",
   "execution_count": 18,
   "metadata": {
    "collapsed": false
   },
   "outputs": [],
   "source": [
    "params = get_parameters()\n",
    "tbdata = table.Table(names=['epoch','T(GeV)', 'T(K)', 'time(s)', 'time(Gyr)', 'a'], \n",
    "                     dtype=['S20', 'f', 'f', 'f', 'f', 'f'])"
   ]
  },
  {
   "cell_type": "markdown",
   "metadata": {},
   "source": [
    "#### reheating"
   ]
  },
  {
   "cell_type": "code",
   "execution_count": 19,
   "metadata": {
    "collapsed": false
   },
   "outputs": [],
   "source": [
    "epoch='reheating'\n",
    "a = params.a_reheat\n",
    "T_GeV = params.T_reheat\n",
    "T_K = GeV_to_K(T_GeV)\n",
    "t = (a/params.a0)**2 * params.t0\n",
    "tbdata.add_row([epoch, T_GeV, T_K, t, t.to(U.Gyr), a])"
   ]
  },
  {
   "cell_type": "markdown",
   "metadata": {},
   "source": [
    "#### nucleosynthesis"
   ]
  },
  {
   "cell_type": "code",
   "execution_count": 20,
   "metadata": {
    "collapsed": false
   },
   "outputs": [],
   "source": [
    "epoch = 'nucleosynthesis'\n",
    "T_n = (1.0*U.MeV).to(U.GeV)\n",
    "a = params.T0/T_n * params.a0\n",
    "T_GeV = calc_Temp(a, params)\n",
    "T_K = GeV_to_K(T_GeV)\n",
    "t = (a/params.a0)**2 * params.t0\n",
    "tbdata.add_row([epoch, T_GeV, T_K, t,t.to(U.Gyr), a])"
   ]
  },
  {
   "cell_type": "markdown",
   "metadata": {},
   "source": [
    "#### radiation_matter_equality"
   ]
  },
  {
   "cell_type": "code",
   "execution_count": 21,
   "metadata": {
    "collapsed": true
   },
   "outputs": [],
   "source": [
    "epoch = 'r_m_equal'\n",
    "a = params.rho_r_reheat/rho_m0 * ((params.a_reheat**4)/(params.a0**3))\n",
    "T_GeV = calc_Temp(a, params)\n",
    "T_K = GeV_to_K(T_GeV)\n",
    "t = (a/params.a0)**(1.75) * params.t0\n",
    "tbdata.add_row([epoch, T_GeV, T_K, t,t.to(U.Gyr), a])"
   ]
  },
  {
   "cell_type": "markdown",
   "metadata": {},
   "source": [
    "#### last scattering"
   ]
  },
  {
   "cell_type": "code",
   "execution_count": 22,
   "metadata": {
    "collapsed": false
   },
   "outputs": [],
   "source": [
    "epoch = 'last_scatter'\n",
    "a = 1/1100\n",
    "T_GeV = calc_Temp(a, params)\n",
    "T_K = GeV_to_K(T_GeV)\n",
    "t = (a/params.a0)**(1.5) * params.t0\n",
    "tbdata.add_row([epoch, T_GeV, T_K, t,t.to(U.Gyr), a])"
   ]
  },
  {
   "cell_type": "markdown",
   "metadata": {},
   "source": [
    "#### intercepts"
   ]
  },
  {
   "cell_type": "code",
   "execution_count": 23,
   "metadata": {
    "collapsed": true
   },
   "outputs": [],
   "source": [
    "epoch = '1Mpc_intercept'\n",
    "loga = -5.7860\n",
    "a = 10**loga\n",
    "T_GeV = calc_Temp(a, params)\n",
    "T_K = GeV_to_K(T_GeV)\n",
    "t = (a/params.a0)**(1.5) * params.t0\n",
    "tbdata.add_row([epoch, T_GeV, T_K, t,t.to(U.Gyr), a])"
   ]
  },
  {
   "cell_type": "code",
   "execution_count": 24,
   "metadata": {
    "collapsed": true
   },
   "outputs": [],
   "source": [
    "epoch = '100Mpc_intercept'\n",
    "loga = -3.55887\n",
    "a = 10**loga\n",
    "T_GeV = calc_Temp(a, params)\n",
    "T_K = GeV_to_K(T_GeV)\n",
    "t = (a/params.a0)**(1.5) * params.t0\n",
    "tbdata.add_row([epoch, T_GeV, T_K, t,t.to(U.Gyr), a])"
   ]
  },
  {
   "cell_type": "code",
   "execution_count": 25,
   "metadata": {
    "collapsed": true
   },
   "outputs": [],
   "source": [
    "epoch = '1000Mpc_intercept'\n",
    "loga = -1.87271\n",
    "a = 10**loga\n",
    "T_GeV = calc_Temp(a, params)\n",
    "T_K = GeV_to_K(T_GeV)\n",
    "t = (a/params.a0)**(1.5) * params.t0\n",
    "tbdata.add_row([epoch, T_GeV, T_K, t,t.to(U.Gyr), a])"
   ]
  },
  {
   "cell_type": "markdown",
   "metadata": {},
   "source": [
    "#### today"
   ]
  },
  {
   "cell_type": "code",
   "execution_count": 26,
   "metadata": {
    "collapsed": true
   },
   "outputs": [],
   "source": [
    "epoch = 'today'\n",
    "a = params.a0\n",
    "T_GeV = calc_Temp(a, params)\n",
    "T_K = GeV_to_K(T_GeV)\n",
    "t = (a/params.a0)**(1.5) * params.t0\n",
    "tbdata.add_row([epoch, T_GeV, T_K, t,t.to(U.Gyr), a])"
   ]
  },
  {
   "cell_type": "code",
   "execution_count": 27,
   "metadata": {
    "collapsed": false
   },
   "outputs": [
    {
     "data": {
      "text/html": [
       "&lt;Table length=8&gt;\n",
       "<table id=\"table4535305496-303583\" class=\"table-striped table-bordered table-condensed\">\n",
       "<thead><tr><th>idx</th><th>epoch</th><th>T(GeV)</th><th>T(K)</th><th>time(s)</th><th>time(Gyr)</th><th>a</th></tr></thead>\n",
       "<tr><td>0</td><td>reheating</td><td>2.4343e+15</td><td>5.38478e-18</td><td>4.33809e-39</td><td>0.0</td><td>9.5594e-29</td></tr>\n",
       "<tr><td>1</td><td>nucleosynthesis</td><td>0.000999974</td><td>2.21198e-36</td><td>0.0256987</td><td>8.14341e-19</td><td>2.32668e-10</td></tr>\n",
       "<tr><td>2</td><td>r_m_equal</td><td>1.15584e-09</td><td>2.55737e-42</td><td>1.61487e+11</td><td>5.11722e-06</td><td>0.000201293</td></tr>\n",
       "<tr><td>3</td><td>last_scatter</td><td>2.55928e-10</td><td>5.66125e-43</td><td>1.30121e+13</td><td>0.000412329</td><td>0.000909091</td></tr>\n",
       "<tr><td>4</td><td>1Mpc_intercept</td><td>1.42143e-07</td><td>3.14426e-40</td><td>9.94116e+08</td><td>3.15016e-08</td><td>1.63682e-06</td></tr>\n",
       "<tr><td>5</td><td>100Mpc_intercept</td><td>8.42549e-10</td><td>1.86373e-42</td><td>2.17837e+12</td><td>6.90285e-05</td><td>0.00027614</td></tr>\n",
       "<tr><td>6</td><td>1000Mpc_intercept</td><td>1.73554e-11</td><td>3.78351e-44</td><td>7.36838e+14</td><td>0.023349</td><td>0.0134057</td></tr>\n",
       "<tr><td>7</td><td>today</td><td>2.32662e-13</td><td>0.0</td><td>4.7472e+17</td><td>15.043</td><td>1.0</td></tr>\n",
       "</table><style>table.dataTable {clear: both; width: auto !important; margin: 0 !important;}\n",
       ".dataTables_info, .dataTables_length, .dataTables_filter, .dataTables_paginate{\n",
       "display: inline-block; margin-right: 1em; }\n",
       ".paginate_button { margin-right: 5px; }\n",
       "</style>\n",
       "<script>\n",
       "require.config({paths: {\n",
       "    datatables: 'https://cdn.datatables.net/1.10.9/js/jquery.dataTables.min'\n",
       "}});\n",
       "require([\"datatables\"], function(){\n",
       "    console.log(\"$('#table4535305496-303583').dataTable()\");\n",
       "    $('#table4535305496-303583').dataTable({\n",
       "        \"order\": [],\n",
       "        \"iDisplayLength\": 50,\n",
       "        \"aLengthMenu\": [[10, 25, 50, 100, 500, 1000, -1], [10, 25, 50, 100, 500, 1000, 'All']],\n",
       "        \"pagingType\": \"full_numbers\"\n",
       "    });\n",
       "});\n",
       "</script>\n"
      ],
      "text/plain": [
       "<IPython.core.display.HTML object>"
      ]
     },
     "execution_count": 27,
     "metadata": {},
     "output_type": "execute_result"
    }
   ],
   "source": [
    "tbdata.show_in_notebook()"
   ]
  },
  {
   "cell_type": "code",
   "execution_count": null,
   "metadata": {
    "collapsed": true
   },
   "outputs": [],
   "source": []
  }
 ],
 "metadata": {
  "anaconda-cloud": {},
  "kernelspec": {
   "display_name": "Python [default]",
   "language": "python",
   "name": "python3"
  },
  "language_info": {
   "codemirror_mode": {
    "name": "ipython",
    "version": 3
   },
   "file_extension": ".py",
   "mimetype": "text/x-python",
   "name": "python",
   "nbconvert_exporter": "python",
   "pygments_lexer": "ipython3",
   "version": "3.5.2"
  }
 },
 "nbformat": 4,
 "nbformat_minor": 1
}
